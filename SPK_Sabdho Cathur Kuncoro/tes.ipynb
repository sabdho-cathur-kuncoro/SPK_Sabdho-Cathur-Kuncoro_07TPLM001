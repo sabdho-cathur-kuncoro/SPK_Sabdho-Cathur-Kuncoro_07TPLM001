{
 "cells": [
  {
   "cell_type": "code",
   "execution_count": 4,
   "metadata": {},
   "outputs": [],
   "source": [
    "a=10\n",
    "b=5"
   ]
  },
  {
   "cell_type": "code",
   "execution_count": 5,
   "metadata": {},
   "outputs": [
    {
     "name": "stdout",
     "output_type": "stream",
     "text": [
      "15\n",
      "5\n",
      "50\n",
      "2.0\n"
     ]
    }
   ],
   "source": [
    "print(a+b)\n",
    "print(a-b)\n",
    "print(a*b)\n",
    "print(a/b)"
   ]
  },
  {
   "cell_type": "code",
   "execution_count": 7,
   "metadata": {},
   "outputs": [
    {
     "name": "stdout",
     "output_type": "stream",
     "text": [
      "masukkan nilai IPK = A\n"
     ]
    }
   ],
   "source": [
    "ipk = input(\"masukkan nilai IPK = \")"
   ]
  },
  {
   "cell_type": "code",
   "execution_count": 8,
   "metadata": {},
   "outputs": [
    {
     "name": "stdout",
     "output_type": "stream",
     "text": [
      "Nilai anda SEMPURNA\n"
     ]
    }
   ],
   "source": [
    "if ipk == \"A\":\n",
    "    print(\"Nilai anda SEMPURNA\")\n",
    "elif ipk == \"B\":\n",
    "    print(\"Nilai anda BAGUS\")\n",
    "elif ipk == \"C\":\n",
    "    print(\"Nilai anda CUKUP\")\n",
    "elif ipk == \"D\":\n",
    "    print(\"Nilai anda KURANG\")\n",
    "elif ipk == \"E\":\n",
    "    print(\"Nilai anda PARAH\")\n",
    "else:\n",
    "    print(\"pilihan hanya A/B/C/D/E !\")"
   ]
  },
  {
   "cell_type": "code",
   "execution_count": 9,
   "metadata": {},
   "outputs": [],
   "source": [
    "mahasiswa = {\n",
    "    \"Nama\" : \"Sabdho Cathur Kuncoro\",\n",
    "    \"Kelas\" : \"07TPLM001\",\n",
    "    \"NIM\" : \"171011402493\"\n",
    "}"
   ]
  },
  {
   "cell_type": "code",
   "execution_count": 10,
   "metadata": {},
   "outputs": [
    {
     "name": "stdout",
     "output_type": "stream",
     "text": [
      "{'Nama': 'Sabdho Cathur Kuncoro', 'Kelas': '07TPLM001', 'NIM': '171011402493'}\n"
     ]
    }
   ],
   "source": [
    "print(mahasiswa)"
   ]
  },
  {
   "cell_type": "code",
   "execution_count": null,
   "metadata": {},
   "outputs": [],
   "source": []
  }
 ],
 "metadata": {
  "kernelspec": {
   "display_name": "Python 3",
   "language": "python",
   "name": "python3"
  },
  "language_info": {
   "codemirror_mode": {
    "name": "ipython",
    "version": 3
   },
   "file_extension": ".py",
   "mimetype": "text/x-python",
   "name": "python",
   "nbconvert_exporter": "python",
   "pygments_lexer": "ipython3",
   "version": "3.8.5"
  }
 },
 "nbformat": 4,
 "nbformat_minor": 4
}
